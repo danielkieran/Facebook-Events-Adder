{
 "cells": [
  {
   "cell_type": "markdown",
   "metadata": {},
   "source": [
    "# OAuth 2.0 setup\n",
    "\n",
    "## Setup to get your token.pkl"
   ]
  },
  {
   "cell_type": "code",
   "execution_count": null,
   "metadata": {},
   "outputs": [],
   "source": [
    "from google_auth_oauthlib.flow import InstalledAppFlow "
   ]
  },
  {
   "cell_type": "code",
   "execution_count": null,
   "metadata": {},
   "outputs": [],
   "source": [
    "# permission for all access to calenders, checked https://developers.google.com/calendar/auth\n",
    "scopes = ['https://www.googleapis.com/auth/calendar'] "
   ]
  },
  {
   "cell_type": "code",
   "execution_count": null,
   "metadata": {},
   "outputs": [],
   "source": [
    "flow = InstalledAppFlow.from_client_secrets_file(\"client_secret.json\", scopes=scopes) #json file was collected from step 1\n",
    "# Once the code below runs go on URL and allow permission to this Google API console project and enter code\n",
    "credentials = flow.run_console() "
   ]
  },
  {
   "cell_type": "code",
   "execution_count": null,
   "metadata": {},
   "outputs": [],
   "source": [
    "credentials # credentials object made"
   ]
  },
  {
   "cell_type": "code",
   "execution_count": null,
   "metadata": {},
   "outputs": [],
   "source": [
    "import pickle\n",
    "# pickle.dump saves the credentials object to a file. \n",
    "pickle.dump(credentials, open(\"token.pkl\", \"wb\")) #dump creates new file "
   ]
  },
  {
   "cell_type": "code",
   "execution_count": null,
   "metadata": {},
   "outputs": [],
   "source": [
    "# Once credentials is saved into the pkl file, it can be reopened so flow doesn't need to run again \n",
    "credentials = pickle.load(open(\"token.pkl\", \"rb\"))\n",
    "credentials\n",
    "# You should have a token.pkl file now which enables you to add events to your calender!"
   ]
  }
 ],
 "metadata": {
  "kernelspec": {
   "display_name": "Python 3",
   "language": "python",
   "name": "python3"
  },
  "language_info": {
   "codemirror_mode": {
    "name": "ipython",
    "version": 3
   },
   "file_extension": ".py",
   "mimetype": "text/x-python",
   "name": "python",
   "nbconvert_exporter": "python",
   "pygments_lexer": "ipython3",
   "version": "3.7.6"
  }
 },
 "nbformat": 4,
 "nbformat_minor": 4
}
